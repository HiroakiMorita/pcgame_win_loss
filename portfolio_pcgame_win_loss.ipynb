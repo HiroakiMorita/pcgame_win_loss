{
 "cells": [
  {
   "cell_type": "code",
   "execution_count": 2,
   "id": "popular-asthma",
   "metadata": {},
   "outputs": [],
   "source": [
    "import pandas as pd\n",
    "import numpy as np\n",
    "from sklearn.preprocessing import LabelEncoder\n",
    "from sklearn.utils import resample\n",
    "from sklearn.model_selection import train_test_split,GridSearchCV\n",
    "import os\n",
    "from sklearn.ensemble import GradientBoostingClassifier\n",
    "import matplotlib.pyplot as plt\n",
    "import seaborn as sns\n",
    "from sklearn.ensemble import RandomForestClassifier\n",
    "from sklearn.metrics import confusion_matrix\n",
    "%matplotlib inline"
   ]
  },
  {
   "cell_type": "markdown",
   "id": "senior-publication",
   "metadata": {},
   "source": [
    "## データ読み込み"
   ]
  },
  {
   "cell_type": "code",
   "execution_count": 6,
   "id": "smart-cancer",
   "metadata": {},
   "outputs": [],
   "source": [
    "df_train = pd.read_csv('train.csv')\n",
    "df_test = pd.read_csv('test.csv')\n",
    "df_submit = pd.read_csv('sample_submit.csv')"
   ]
  },
  {
   "cell_type": "markdown",
   "id": "julian-search",
   "metadata": {},
   "source": [
    "## train.csvデータの基本統計量を確認"
   ]
  },
  {
   "cell_type": "code",
   "execution_count": 7,
   "id": "suspected-creativity",
   "metadata": {},
   "outputs": [
    {
     "data": {
      "text/html": [
       "<div>\n",
       "<style scoped>\n",
       "    .dataframe tbody tr th:only-of-type {\n",
       "        vertical-align: middle;\n",
       "    }\n",
       "\n",
       "    .dataframe tbody tr th {\n",
       "        vertical-align: top;\n",
       "    }\n",
       "\n",
       "    .dataframe thead th {\n",
       "        text-align: right;\n",
       "    }\n",
       "</style>\n",
       "<table border=\"1\" class=\"dataframe\">\n",
       "  <thead>\n",
       "    <tr style=\"text-align: right;\">\n",
       "      <th></th>\n",
       "      <th>gameId</th>\n",
       "      <th>blueFirstBlood</th>\n",
       "      <th>blueKills</th>\n",
       "      <th>blueDeaths</th>\n",
       "      <th>blueAssists</th>\n",
       "      <th>blueEliteMonsters</th>\n",
       "      <th>blueDragons</th>\n",
       "      <th>blueTotalGold</th>\n",
       "      <th>blueTotalExperience</th>\n",
       "      <th>blueWins</th>\n",
       "    </tr>\n",
       "  </thead>\n",
       "  <tbody>\n",
       "    <tr>\n",
       "      <th>count</th>\n",
       "      <td>8000.000000</td>\n",
       "      <td>8000.000000</td>\n",
       "      <td>8000.000000</td>\n",
       "      <td>8000.00000</td>\n",
       "      <td>8000.000000</td>\n",
       "      <td>8000.000000</td>\n",
       "      <td>8000.000000</td>\n",
       "      <td>8000.000000</td>\n",
       "      <td>8000.000000</td>\n",
       "      <td>8000.000000</td>\n",
       "    </tr>\n",
       "    <tr>\n",
       "      <th>mean</th>\n",
       "      <td>4983.683000</td>\n",
       "      <td>0.513000</td>\n",
       "      <td>6.029750</td>\n",
       "      <td>5.92350</td>\n",
       "      <td>5.881875</td>\n",
       "      <td>0.538625</td>\n",
       "      <td>0.358125</td>\n",
       "      <td>17154.067750</td>\n",
       "      <td>17983.514000</td>\n",
       "      <td>0.491750</td>\n",
       "    </tr>\n",
       "    <tr>\n",
       "      <th>std</th>\n",
       "      <td>2893.028418</td>\n",
       "      <td>0.499862</td>\n",
       "      <td>2.623876</td>\n",
       "      <td>2.64892</td>\n",
       "      <td>3.189897</td>\n",
       "      <td>0.629728</td>\n",
       "      <td>0.479479</td>\n",
       "      <td>1820.796171</td>\n",
       "      <td>772.348402</td>\n",
       "      <td>0.499963</td>\n",
       "    </tr>\n",
       "    <tr>\n",
       "      <th>min</th>\n",
       "      <td>0.000000</td>\n",
       "      <td>0.000000</td>\n",
       "      <td>0.000000</td>\n",
       "      <td>0.00000</td>\n",
       "      <td>0.000000</td>\n",
       "      <td>0.000000</td>\n",
       "      <td>0.000000</td>\n",
       "      <td>13475.000000</td>\n",
       "      <td>16650.000000</td>\n",
       "      <td>0.000000</td>\n",
       "    </tr>\n",
       "    <tr>\n",
       "      <th>25%</th>\n",
       "      <td>2473.750000</td>\n",
       "      <td>0.000000</td>\n",
       "      <td>4.000000</td>\n",
       "      <td>4.00000</td>\n",
       "      <td>3.000000</td>\n",
       "      <td>0.000000</td>\n",
       "      <td>0.000000</td>\n",
       "      <td>16544.000000</td>\n",
       "      <td>17256.000000</td>\n",
       "      <td>0.000000</td>\n",
       "    </tr>\n",
       "    <tr>\n",
       "      <th>50%</th>\n",
       "      <td>4985.500000</td>\n",
       "      <td>1.000000</td>\n",
       "      <td>6.000000</td>\n",
       "      <td>6.00000</td>\n",
       "      <td>6.000000</td>\n",
       "      <td>0.000000</td>\n",
       "      <td>0.000000</td>\n",
       "      <td>17409.000000</td>\n",
       "      <td>18021.000000</td>\n",
       "      <td>0.000000</td>\n",
       "    </tr>\n",
       "    <tr>\n",
       "      <th>75%</th>\n",
       "      <td>7493.250000</td>\n",
       "      <td>1.000000</td>\n",
       "      <td>8.000000</td>\n",
       "      <td>8.00000</td>\n",
       "      <td>8.000000</td>\n",
       "      <td>1.000000</td>\n",
       "      <td>1.000000</td>\n",
       "      <td>18274.000000</td>\n",
       "      <td>18472.000000</td>\n",
       "      <td>1.000000</td>\n",
       "    </tr>\n",
       "    <tr>\n",
       "      <th>max</th>\n",
       "      <td>9998.000000</td>\n",
       "      <td>1.000000</td>\n",
       "      <td>14.000000</td>\n",
       "      <td>14.00000</td>\n",
       "      <td>17.000000</td>\n",
       "      <td>2.000000</td>\n",
       "      <td>1.000000</td>\n",
       "      <td>20619.000000</td>\n",
       "      <td>20101.000000</td>\n",
       "      <td>1.000000</td>\n",
       "    </tr>\n",
       "  </tbody>\n",
       "</table>\n",
       "</div>"
      ],
      "text/plain": [
       "            gameId  blueFirstBlood    blueKills  blueDeaths  blueAssists  \\\n",
       "count  8000.000000     8000.000000  8000.000000  8000.00000  8000.000000   \n",
       "mean   4983.683000        0.513000     6.029750     5.92350     5.881875   \n",
       "std    2893.028418        0.499862     2.623876     2.64892     3.189897   \n",
       "min       0.000000        0.000000     0.000000     0.00000     0.000000   \n",
       "25%    2473.750000        0.000000     4.000000     4.00000     3.000000   \n",
       "50%    4985.500000        1.000000     6.000000     6.00000     6.000000   \n",
       "75%    7493.250000        1.000000     8.000000     8.00000     8.000000   \n",
       "max    9998.000000        1.000000    14.000000    14.00000    17.000000   \n",
       "\n",
       "       blueEliteMonsters  blueDragons  blueTotalGold  blueTotalExperience  \\\n",
       "count        8000.000000  8000.000000    8000.000000          8000.000000   \n",
       "mean            0.538625     0.358125   17154.067750         17983.514000   \n",
       "std             0.629728     0.479479    1820.796171           772.348402   \n",
       "min             0.000000     0.000000   13475.000000         16650.000000   \n",
       "25%             0.000000     0.000000   16544.000000         17256.000000   \n",
       "50%             0.000000     0.000000   17409.000000         18021.000000   \n",
       "75%             1.000000     1.000000   18274.000000         18472.000000   \n",
       "max             2.000000     1.000000   20619.000000         20101.000000   \n",
       "\n",
       "          blueWins  \n",
       "count  8000.000000  \n",
       "mean      0.491750  \n",
       "std       0.499963  \n",
       "min       0.000000  \n",
       "25%       0.000000  \n",
       "50%       0.000000  \n",
       "75%       1.000000  \n",
       "max       1.000000  "
      ]
     },
     "execution_count": 7,
     "metadata": {},
     "output_type": "execute_result"
    }
   ],
   "source": [
    "df_train.describe()"
   ]
  },
  {
   "cell_type": "markdown",
   "id": "leading-adaptation",
   "metadata": {},
   "source": [
    "## test.csvデータの基本統計量を確認"
   ]
  },
  {
   "cell_type": "code",
   "execution_count": 8,
   "id": "frequent-ticket",
   "metadata": {},
   "outputs": [
    {
     "data": {
      "text/html": [
       "<div>\n",
       "<style scoped>\n",
       "    .dataframe tbody tr th:only-of-type {\n",
       "        vertical-align: middle;\n",
       "    }\n",
       "\n",
       "    .dataframe tbody tr th {\n",
       "        vertical-align: top;\n",
       "    }\n",
       "\n",
       "    .dataframe thead th {\n",
       "        text-align: right;\n",
       "    }\n",
       "</style>\n",
       "<table border=\"1\" class=\"dataframe\">\n",
       "  <thead>\n",
       "    <tr style=\"text-align: right;\">\n",
       "      <th></th>\n",
       "      <th>gameId</th>\n",
       "      <th>blueFirstBlood</th>\n",
       "      <th>blueKills</th>\n",
       "      <th>blueDeaths</th>\n",
       "      <th>blueAssists</th>\n",
       "      <th>blueEliteMonsters</th>\n",
       "      <th>blueDragons</th>\n",
       "      <th>blueTotalGold</th>\n",
       "      <th>blueTotalExperience</th>\n",
       "    </tr>\n",
       "  </thead>\n",
       "  <tbody>\n",
       "    <tr>\n",
       "      <th>count</th>\n",
       "      <td>2000.000000</td>\n",
       "      <td>2000.000000</td>\n",
       "      <td>2000.000000</td>\n",
       "      <td>2000.000000</td>\n",
       "      <td>2000.00000</td>\n",
       "      <td>2000.000000</td>\n",
       "      <td>2000.000000</td>\n",
       "      <td>2000.000000</td>\n",
       "      <td>2000.000000</td>\n",
       "    </tr>\n",
       "    <tr>\n",
       "      <th>mean</th>\n",
       "      <td>5062.768000</td>\n",
       "      <td>0.523500</td>\n",
       "      <td>6.208000</td>\n",
       "      <td>5.882500</td>\n",
       "      <td>6.17300</td>\n",
       "      <td>0.543500</td>\n",
       "      <td>0.359500</td>\n",
       "      <td>17178.094000</td>\n",
       "      <td>18003.009000</td>\n",
       "    </tr>\n",
       "    <tr>\n",
       "      <th>std</th>\n",
       "      <td>2862.077838</td>\n",
       "      <td>0.499572</td>\n",
       "      <td>2.659186</td>\n",
       "      <td>2.650888</td>\n",
       "      <td>3.26809</td>\n",
       "      <td>0.615871</td>\n",
       "      <td>0.479974</td>\n",
       "      <td>1840.928324</td>\n",
       "      <td>768.510754</td>\n",
       "    </tr>\n",
       "    <tr>\n",
       "      <th>min</th>\n",
       "      <td>9.000000</td>\n",
       "      <td>0.000000</td>\n",
       "      <td>0.000000</td>\n",
       "      <td>0.000000</td>\n",
       "      <td>0.00000</td>\n",
       "      <td>0.000000</td>\n",
       "      <td>0.000000</td>\n",
       "      <td>13475.000000</td>\n",
       "      <td>16650.000000</td>\n",
       "    </tr>\n",
       "    <tr>\n",
       "      <th>25%</th>\n",
       "      <td>2603.500000</td>\n",
       "      <td>0.000000</td>\n",
       "      <td>4.000000</td>\n",
       "      <td>4.000000</td>\n",
       "      <td>4.00000</td>\n",
       "      <td>0.000000</td>\n",
       "      <td>0.000000</td>\n",
       "      <td>16961.000000</td>\n",
       "      <td>17256.000000</td>\n",
       "    </tr>\n",
       "    <tr>\n",
       "      <th>50%</th>\n",
       "      <td>5075.500000</td>\n",
       "      <td>1.000000</td>\n",
       "      <td>6.000000</td>\n",
       "      <td>6.000000</td>\n",
       "      <td>6.00000</td>\n",
       "      <td>0.000000</td>\n",
       "      <td>0.000000</td>\n",
       "      <td>17409.000000</td>\n",
       "      <td>18021.000000</td>\n",
       "    </tr>\n",
       "    <tr>\n",
       "      <th>75%</th>\n",
       "      <td>7543.250000</td>\n",
       "      <td>1.000000</td>\n",
       "      <td>8.000000</td>\n",
       "      <td>8.000000</td>\n",
       "      <td>8.00000</td>\n",
       "      <td>1.000000</td>\n",
       "      <td>1.000000</td>\n",
       "      <td>18274.000000</td>\n",
       "      <td>18472.000000</td>\n",
       "    </tr>\n",
       "    <tr>\n",
       "      <th>max</th>\n",
       "      <td>9999.000000</td>\n",
       "      <td>1.000000</td>\n",
       "      <td>13.000000</td>\n",
       "      <td>14.000000</td>\n",
       "      <td>14.00000</td>\n",
       "      <td>2.000000</td>\n",
       "      <td>1.000000</td>\n",
       "      <td>20619.000000</td>\n",
       "      <td>20101.000000</td>\n",
       "    </tr>\n",
       "  </tbody>\n",
       "</table>\n",
       "</div>"
      ],
      "text/plain": [
       "            gameId  blueFirstBlood    blueKills   blueDeaths  blueAssists  \\\n",
       "count  2000.000000     2000.000000  2000.000000  2000.000000   2000.00000   \n",
       "mean   5062.768000        0.523500     6.208000     5.882500      6.17300   \n",
       "std    2862.077838        0.499572     2.659186     2.650888      3.26809   \n",
       "min       9.000000        0.000000     0.000000     0.000000      0.00000   \n",
       "25%    2603.500000        0.000000     4.000000     4.000000      4.00000   \n",
       "50%    5075.500000        1.000000     6.000000     6.000000      6.00000   \n",
       "75%    7543.250000        1.000000     8.000000     8.000000      8.00000   \n",
       "max    9999.000000        1.000000    13.000000    14.000000     14.00000   \n",
       "\n",
       "       blueEliteMonsters  blueDragons  blueTotalGold  blueTotalExperience  \n",
       "count        2000.000000  2000.000000    2000.000000          2000.000000  \n",
       "mean            0.543500     0.359500   17178.094000         18003.009000  \n",
       "std             0.615871     0.479974    1840.928324           768.510754  \n",
       "min             0.000000     0.000000   13475.000000         16650.000000  \n",
       "25%             0.000000     0.000000   16961.000000         17256.000000  \n",
       "50%             0.000000     0.000000   17409.000000         18021.000000  \n",
       "75%             1.000000     1.000000   18274.000000         18472.000000  \n",
       "max             2.000000     1.000000   20619.000000         20101.000000  "
      ]
     },
     "execution_count": 8,
     "metadata": {},
     "output_type": "execute_result"
    }
   ],
   "source": [
    "df_test.describe()"
   ]
  },
  {
   "cell_type": "markdown",
   "id": "agricultural-mexico",
   "metadata": {},
   "source": [
    "## train.csvのデータ要約を確認"
   ]
  },
  {
   "cell_type": "code",
   "execution_count": 9,
   "id": "promotional-aaron",
   "metadata": {},
   "outputs": [
    {
     "name": "stdout",
     "output_type": "stream",
     "text": [
      "<class 'pandas.core.frame.DataFrame'>\n",
      "RangeIndex: 8000 entries, 0 to 7999\n",
      "Data columns (total 10 columns):\n",
      " #   Column               Non-Null Count  Dtype\n",
      "---  ------               --------------  -----\n",
      " 0   gameId               8000 non-null   int64\n",
      " 1   blueFirstBlood       8000 non-null   int64\n",
      " 2   blueKills            8000 non-null   int64\n",
      " 3   blueDeaths           8000 non-null   int64\n",
      " 4   blueAssists          8000 non-null   int64\n",
      " 5   blueEliteMonsters    8000 non-null   int64\n",
      " 6   blueDragons          8000 non-null   int64\n",
      " 7   blueTotalGold        8000 non-null   int64\n",
      " 8   blueTotalExperience  8000 non-null   int64\n",
      " 9   blueWins             8000 non-null   int64\n",
      "dtypes: int64(10)\n",
      "memory usage: 625.1 KB\n"
     ]
    }
   ],
   "source": [
    "df_train.info()"
   ]
  },
  {
   "cell_type": "markdown",
   "id": "retired-princess",
   "metadata": {},
   "source": [
    "##### ※全てint型でobject型はなかった"
   ]
  },
  {
   "cell_type": "code",
   "execution_count": null,
   "id": "willing-spectacular",
   "metadata": {},
   "outputs": [],
   "source": []
  },
  {
   "cell_type": "markdown",
   "id": "induced-services",
   "metadata": {},
   "source": [
    "## test.csvのデータ要約を確認"
   ]
  },
  {
   "cell_type": "code",
   "execution_count": 10,
   "id": "prepared-excellence",
   "metadata": {},
   "outputs": [
    {
     "name": "stdout",
     "output_type": "stream",
     "text": [
      "<class 'pandas.core.frame.DataFrame'>\n",
      "RangeIndex: 2000 entries, 0 to 1999\n",
      "Data columns (total 9 columns):\n",
      " #   Column               Non-Null Count  Dtype\n",
      "---  ------               --------------  -----\n",
      " 0   gameId               2000 non-null   int64\n",
      " 1   blueFirstBlood       2000 non-null   int64\n",
      " 2   blueKills            2000 non-null   int64\n",
      " 3   blueDeaths           2000 non-null   int64\n",
      " 4   blueAssists          2000 non-null   int64\n",
      " 5   blueEliteMonsters    2000 non-null   int64\n",
      " 6   blueDragons          2000 non-null   int64\n",
      " 7   blueTotalGold        2000 non-null   int64\n",
      " 8   blueTotalExperience  2000 non-null   int64\n",
      "dtypes: int64(9)\n",
      "memory usage: 140.8 KB\n"
     ]
    }
   ],
   "source": [
    "df_test.info()"
   ]
  },
  {
   "cell_type": "markdown",
   "id": "existing-mauritius",
   "metadata": {},
   "source": [
    "##### ※testデータもtrainデータと同様に全てint型であった"
   ]
  },
  {
   "cell_type": "code",
   "execution_count": null,
   "id": "close-intervention",
   "metadata": {},
   "outputs": [],
   "source": []
  },
  {
   "cell_type": "markdown",
   "id": "fatty-chrome",
   "metadata": {},
   "source": [
    "## 欠損値データがあるか確認"
   ]
  },
  {
   "cell_type": "code",
   "execution_count": 15,
   "id": "static-bones",
   "metadata": {},
   "outputs": [
    {
     "data": {
      "text/plain": [
       "(gameId                 0\n",
       " blueFirstBlood         0\n",
       " blueKills              0\n",
       " blueDeaths             0\n",
       " blueAssists            0\n",
       " blueEliteMonsters      0\n",
       " blueDragons            0\n",
       " blueTotalGold          0\n",
       " blueTotalExperience    0\n",
       " blueWins               0\n",
       " dtype: int64,\n",
       " gameId                 0\n",
       " blueFirstBlood         0\n",
       " blueKills              0\n",
       " blueDeaths             0\n",
       " blueAssists            0\n",
       " blueEliteMonsters      0\n",
       " blueDragons            0\n",
       " blueTotalGold          0\n",
       " blueTotalExperience    0\n",
       " dtype: int64)"
      ]
     },
     "execution_count": 15,
     "metadata": {},
     "output_type": "execute_result"
    }
   ],
   "source": [
    "df_train.isnull().sum(), df_test.isnull().sum()"
   ]
  },
  {
   "cell_type": "markdown",
   "id": "central-norway",
   "metadata": {},
   "source": [
    "##### ※trainデータ、testデータどちらもnullがなかった為、欠損値はなかった"
   ]
  },
  {
   "cell_type": "code",
   "execution_count": null,
   "id": "centered-missouri",
   "metadata": {},
   "outputs": [],
   "source": []
  },
  {
   "cell_type": "markdown",
   "id": "animated-institute",
   "metadata": {},
   "source": [
    "## trainデータの各項目の相関関係を確認"
   ]
  },
  {
   "cell_type": "code",
   "execution_count": 17,
   "id": "invisible-administration",
   "metadata": {},
   "outputs": [
    {
     "data": {
      "text/plain": [
       "<AxesSubplot:>"
      ]
     },
     "execution_count": 17,
     "metadata": {},
     "output_type": "execute_result"
    },
    {
     "data": {
      "image/png": "[encoded data removed]",
      "text/plain": [
       "<Figure size 720x720 with 2 Axes>"
      ]
     },
     "metadata": {
      "needs_background": "light"
     },
     "output_type": "display_data"
    }
   ],
   "source": [
    "corr=(df_train.corr())\n",
    "plt.figure(figsize=(10,10))\n",
    "sns.heatmap(corr,annot=True)"
   ]
  },
  {
   "cell_type": "markdown",
   "id": "surprising-moral",
   "metadata": {},
   "source": [
    "##### 「blueAssistsとblueKills」及び「blueDragonsとblueEliteMonsters」に強い正の相関関係があった"
   ]
  },
  {
   "cell_type": "code",
   "execution_count": null,
   "id": "interstate-instrument",
   "metadata": {},
   "outputs": [],
   "source": []
  },
  {
   "cell_type": "markdown",
   "id": "bigger-eating",
   "metadata": {},
   "source": [
    "## データの前処理"
   ]
  },
  {
   "cell_type": "markdown",
   "id": "fancy-break",
   "metadata": {},
   "source": [
    "#### blueAssistsとblueKillsに強い相関関係があったため、足し合わせてみる"
   ]
  },
  {
   "cell_type": "code",
   "execution_count": 19,
   "id": "swiss-snowboard",
   "metadata": {},
   "outputs": [],
   "source": [
    "df_train['blue_kill_assist'] = df_train['blueKills'] + df_train['blueAssists']\n",
    "df_test['blue_kill_assist'] = df_test['blueKills'] + df_test['blueAssists']"
   ]
  },
  {
   "cell_type": "code",
   "execution_count": null,
   "id": "everyday-danger",
   "metadata": {},
   "outputs": [],
   "source": []
  },
  {
   "cell_type": "markdown",
   "id": "spatial-radical",
   "metadata": {},
   "source": [
    "#### blueTotalGoldとblueTotalExperienceがbluewinに関連しているようであり、数値が大きい為、1,000で割る"
   ]
  },
  {
   "cell_type": "code",
   "execution_count": 20,
   "id": "active-coordinator",
   "metadata": {},
   "outputs": [],
   "source": [
    "df_train['Gold_ret'] = (df_train[\"blueTotalGold\"]//1000+1).astype(int)\n",
    "df_train['Experience_ret'] = (df_train[\"blueTotalExperience\"]//1000+1).astype(int)\n",
    "\n",
    "df_test['Gold_ret'] = (df_test[\"blueTotalGold\"]//1000+1).astype(int)\n",
    "df_test['Experience_ret'] = (df_test[\"blueTotalExperience\"]//1000+1).astype(int)"
   ]
  },
  {
   "cell_type": "code",
   "execution_count": null,
   "id": "resistant-concert",
   "metadata": {},
   "outputs": [],
   "source": []
  },
  {
   "cell_type": "code",
   "execution_count": 24,
   "id": "precise-guest",
   "metadata": {},
   "outputs": [
    {
     "data": {
      "text/plain": [
       "count     8000.000000\n",
       "mean     17983.514000\n",
       "std        772.348402\n",
       "min      16650.000000\n",
       "25%      17256.000000\n",
       "50%      18021.000000\n",
       "75%      18472.000000\n",
       "max      20101.000000\n",
       "Name: blueTotalExperience, dtype: float64"
      ]
     },
     "execution_count": 24,
     "metadata": {},
     "output_type": "execute_result"
    }
   ],
   "source": [
    "df_train['blueTotalExperience'].describe()"
   ]
  },
  {
   "cell_type": "code",
   "execution_count": 23,
   "id": "danish-deviation",
   "metadata": {},
   "outputs": [
    {
     "data": {
      "image/png": "[encoded data removed]",
      "text/plain": [
       "<Figure size 432x288 with 1 Axes>"
      ]
     },
     "metadata": {
      "needs_background": "light"
     },
     "output_type": "display_data"
    }
   ],
   "source": [
    "plt.hist(df_train['blueTotalExperience'])\n",
    "plt.show()"
   ]
  },
  {
   "cell_type": "markdown",
   "id": "flush-rwanda",
   "metadata": {},
   "source": [
    "##### blueTotalExperienceの17000以下の数値と20100の数値の割合が少なかった為、削除する"
   ]
  },
  {
   "cell_type": "code",
   "execution_count": 25,
   "id": "secondary-pizza",
   "metadata": {},
   "outputs": [],
   "source": [
    "df_train = df_train[(df_train['blueTotalExperience'] >= 17000) & (df_train['blueTotalExperience'] <= 20100)]"
   ]
  },
  {
   "cell_type": "code",
   "execution_count": null,
   "id": "biblical-adult",
   "metadata": {},
   "outputs": [],
   "source": []
  },
  {
   "cell_type": "code",
   "execution_count": 27,
   "id": "guilty-anthony",
   "metadata": {},
   "outputs": [
    {
     "data": {
      "text/plain": [
       "count    7987.000000\n",
       "mean        5.882559\n",
       "std         3.190540\n",
       "min         0.000000\n",
       "25%         3.000000\n",
       "50%         6.000000\n",
       "75%         8.000000\n",
       "max        17.000000\n",
       "Name: blueAssists, dtype: float64"
      ]
     },
     "execution_count": 27,
     "metadata": {},
     "output_type": "execute_result"
    }
   ],
   "source": [
    "df_train['blueAssists'].describe()"
   ]
  },
  {
   "cell_type": "code",
   "execution_count": 26,
   "id": "suburban-clinic",
   "metadata": {},
   "outputs": [
    {
     "data": {
      "image/png": "[encoded data removed]",
      "text/plain": [
       "<Figure size 432x288 with 1 Axes>"
      ]
     },
     "metadata": {
      "needs_background": "light"
     },
     "output_type": "display_data"
    }
   ],
   "source": [
    "plt.hist(df_train['blueAssists'])\n",
    "plt.show()"
   ]
  },
  {
   "cell_type": "markdown",
   "id": "moral-hundred",
   "metadata": {},
   "source": [
    "#### blueAssistsの値で17の割合が少なかった為、削除する"
   ]
  },
  {
   "cell_type": "code",
   "execution_count": 28,
   "id": "adult-salvation",
   "metadata": {},
   "outputs": [],
   "source": [
    "df_train = df_train[df_train['blueAssists'] < 17]"
   ]
  },
  {
   "cell_type": "code",
   "execution_count": null,
   "id": "suffering-figure",
   "metadata": {},
   "outputs": [],
   "source": []
  },
  {
   "cell_type": "markdown",
   "id": "focal-sterling",
   "metadata": {},
   "source": [
    "#### blueTotalGoldとblueTotalExperienceの関連性があった為、四則演算を加えてみる"
   ]
  },
  {
   "cell_type": "code",
   "execution_count": 31,
   "id": "falling-coordinator",
   "metadata": {},
   "outputs": [],
   "source": [
    "df_train['TotalGold/TotalExperience'] = df_train['blueTotalGold'] / df_train['blueTotalExperience']\n",
    "df_test['TotalGold/TotalExperience'] = df_test['blueTotalGold'] / df_test['blueTotalExperience']\n",
    "df_train['TotalExperience/TotalGold'] = df_train['blueTotalExperience'] / df_train['blueTotalGold']\n",
    "df_test['TotalExperience/TotalGold'] = df_test['blueTotalExperience'] / df_test['blueTotalGold']"
   ]
  },
  {
   "cell_type": "code",
   "execution_count": null,
   "id": "explicit-heart",
   "metadata": {},
   "outputs": [],
   "source": []
  },
  {
   "cell_type": "markdown",
   "id": "wicked-greensboro",
   "metadata": {},
   "source": [
    "#### blueEliteMonstersとblueFirstBloodをダミー変数化する"
   ]
  },
  {
   "cell_type": "code",
   "execution_count": 32,
   "id": "decimal-triple",
   "metadata": {},
   "outputs": [],
   "source": [
    "df_train = pd.get_dummies(df_train, columns=['blueEliteMonsters'])\n",
    "df_train = pd.get_dummies(df_train, columns=['blueFirstBlood'])\n",
    "df_test = pd.get_dummies(df_test, columns=['blueEliteMonsters'])\n",
    "df_test = pd.get_dummies(df_test, columns=['blueFirstBlood'])"
   ]
  },
  {
   "cell_type": "code",
   "execution_count": null,
   "id": "recovered-average",
   "metadata": {},
   "outputs": [],
   "source": []
  },
  {
   "cell_type": "markdown",
   "id": "union-camel",
   "metadata": {},
   "source": [
    "#### blueTotalExperienceをランク分けで作成してみる"
   ]
  },
  {
   "cell_type": "code",
   "execution_count": 34,
   "id": "unusual-prompt",
   "metadata": {},
   "outputs": [],
   "source": [
    "def change_blueTotalExperience(x):\n",
    "    if x < 17500:\n",
    "        return 1\n",
    "    elif 17500 <= x < 19000:\n",
    "        return 2\n",
    "    elif 19000 <= x:\n",
    "        return 3\n",
    "\n",
    "df_train['change_blueTotalExperience'] = df_train['blueTotalExperience'].apply(change_blueTotalExperience)"
   ]
  },
  {
   "cell_type": "code",
   "execution_count": 35,
   "id": "upper-austria",
   "metadata": {},
   "outputs": [
    {
     "data": {
      "image/png": "[encoded data removed]",
      "text/plain": [
       "<Figure size 432x288 with 1 Axes>"
      ]
     },
     "metadata": {
      "needs_background": "light"
     },
     "output_type": "display_data"
    }
   ],
   "source": [
    "plt.hist(df_train['change_blueTotalExperience'])\n",
    "plt.show()"
   ]
  },
  {
   "cell_type": "code",
   "execution_count": 36,
   "id": "exterior-colony",
   "metadata": {},
   "outputs": [],
   "source": [
    "def change_blueTotalExperience(x):\n",
    "    if x < 17500:\n",
    "        return 1\n",
    "    elif 17500 <= x < 19000:\n",
    "        return 2\n",
    "    elif 19000 <= x:\n",
    "        return 3\n",
    "\n",
    "df_test['change_blueTotalExperience'] = df_test['blueTotalExperience'].apply(change_blueTotalExperience)"
   ]
  },
  {
   "cell_type": "code",
   "execution_count": null,
   "id": "prescribed-travel",
   "metadata": {},
   "outputs": [],
   "source": []
  },
  {
   "cell_type": "code",
   "execution_count": 38,
   "id": "exciting-modeling",
   "metadata": {},
   "outputs": [
    {
     "data": {
      "image/png": "[encoded data removed]",
      "text/plain": [
       "<Figure size 432x288 with 1 Axes>"
      ]
     },
     "metadata": {
      "needs_background": "light"
     },
     "output_type": "display_data"
    }
   ],
   "source": [
    "plt.hist(df_train['blueTotalGold'])\n",
    "plt.show()"
   ]
  },
  {
   "cell_type": "markdown",
   "id": "optical-hanging",
   "metadata": {},
   "source": [
    "#### blueTotalGoldについてもランク分けで作成してみる"
   ]
  },
  {
   "cell_type": "code",
   "execution_count": 39,
   "id": "positive-cheat",
   "metadata": {},
   "outputs": [],
   "source": [
    "def change_blueTotalGold(x):\n",
    "    if x < 17000:\n",
    "        return 1\n",
    "    elif 17000 <= x < 18500:\n",
    "        return 2\n",
    "    elif 18500 <= x:\n",
    "        return 3\n",
    "\n",
    "df_train['change_blueTotalGold'] = df_train['blueTotalGold'].apply(change_blueTotalGold)"
   ]
  },
  {
   "cell_type": "code",
   "execution_count": 40,
   "id": "surgical-justice",
   "metadata": {},
   "outputs": [
    {
     "data": {
      "image/png": "[encoded data removed]",
      "text/plain": [
       "<Figure size 432x288 with 1 Axes>"
      ]
     },
     "metadata": {
      "needs_background": "light"
     },
     "output_type": "display_data"
    }
   ],
   "source": [
    "plt.hist(df_train['change_blueTotalGold'])\n",
    "plt.show()"
   ]
  },
  {
   "cell_type": "code",
   "execution_count": 41,
   "id": "upper-medium",
   "metadata": {},
   "outputs": [],
   "source": [
    "def change_blueTotalGold(x):\n",
    "    if x < 17000:\n",
    "        return 1\n",
    "    elif 17000 <= x < 18500:\n",
    "        return 2\n",
    "    elif 18500 <= x:\n",
    "        return 3\n",
    "\n",
    "df_test['change_blueTotalGold'] = df_test['blueTotalGold'].apply(change_blueTotalGold)"
   ]
  },
  {
   "cell_type": "code",
   "execution_count": null,
   "id": "elder-scheduling",
   "metadata": {},
   "outputs": [],
   "source": []
  },
  {
   "cell_type": "markdown",
   "id": "decent-feeling",
   "metadata": {},
   "source": [
    "#### ダミー変数化する"
   ]
  },
  {
   "cell_type": "code",
   "execution_count": 44,
   "id": "sublime-startup",
   "metadata": {},
   "outputs": [],
   "source": [
    "df_train = pd.get_dummies(df_train, columns=['change_blueTotalExperience'])\n",
    "df_train = pd.get_dummies(df_train, columns=['change_blueTotalGold'])\n",
    "df_test = pd.get_dummies(df_test, columns=['change_blueTotalExperience'])\n",
    "df_test = pd.get_dummies(df_test, columns=['change_blueTotalGold'])"
   ]
  },
  {
   "cell_type": "code",
   "execution_count": null,
   "id": "powered-holiday",
   "metadata": {},
   "outputs": [],
   "source": []
  },
  {
   "cell_type": "markdown",
   "id": "matched-cuisine",
   "metadata": {},
   "source": [
    "#### 必要なカラムのみ抽出する"
   ]
  },
  {
   "cell_type": "code",
   "execution_count": 46,
   "id": "curious-orchestra",
   "metadata": {},
   "outputs": [
    {
     "data": {
      "text/html": [
       "<div>\n",
       "<style scoped>\n",
       "    .dataframe tbody tr th:only-of-type {\n",
       "        vertical-align: middle;\n",
       "    }\n",
       "\n",
       "    .dataframe tbody tr th {\n",
       "        vertical-align: top;\n",
       "    }\n",
       "\n",
       "    .dataframe thead th {\n",
       "        text-align: right;\n",
       "    }\n",
       "</style>\n",
       "<table border=\"1\" class=\"dataframe\">\n",
       "  <thead>\n",
       "    <tr style=\"text-align: right;\">\n",
       "      <th></th>\n",
       "      <th>blueKills</th>\n",
       "      <th>blueDeaths</th>\n",
       "      <th>blueAssists</th>\n",
       "      <th>blueDragons</th>\n",
       "      <th>blueTotalGold</th>\n",
       "      <th>blueTotalExperience</th>\n",
       "      <th>Gold_ret</th>\n",
       "      <th>Experience_ret</th>\n",
       "      <th>blue_kill_assist</th>\n",
       "      <th>blueEliteMonsters_0</th>\n",
       "      <th>...</th>\n",
       "      <th>blueFirstBlood_0</th>\n",
       "      <th>blueFirstBlood_1</th>\n",
       "      <th>TotalGold/TotalExperience</th>\n",
       "      <th>TotalExperience/TotalGold</th>\n",
       "      <th>change_blueTotalExperience_1</th>\n",
       "      <th>change_blueTotalExperience_2</th>\n",
       "      <th>change_blueTotalExperience_3</th>\n",
       "      <th>change_blueTotalGold_1</th>\n",
       "      <th>change_blueTotalGold_2</th>\n",
       "      <th>change_blueTotalGold_3</th>\n",
       "    </tr>\n",
       "  </thead>\n",
       "  <tbody>\n",
       "    <tr>\n",
       "      <th>0</th>\n",
       "      <td>5</td>\n",
       "      <td>8</td>\n",
       "      <td>6</td>\n",
       "      <td>0</td>\n",
       "      <td>14536</td>\n",
       "      <td>17256</td>\n",
       "      <td>15</td>\n",
       "      <td>18</td>\n",
       "      <td>11</td>\n",
       "      <td>1</td>\n",
       "      <td>...</td>\n",
       "      <td>1</td>\n",
       "      <td>0</td>\n",
       "      <td>0.842374</td>\n",
       "      <td>1.187122</td>\n",
       "      <td>1</td>\n",
       "      <td>0</td>\n",
       "      <td>0</td>\n",
       "      <td>1</td>\n",
       "      <td>0</td>\n",
       "      <td>0</td>\n",
       "    </tr>\n",
       "    <tr>\n",
       "      <th>1</th>\n",
       "      <td>10</td>\n",
       "      <td>1</td>\n",
       "      <td>5</td>\n",
       "      <td>0</td>\n",
       "      <td>14536</td>\n",
       "      <td>17863</td>\n",
       "      <td>15</td>\n",
       "      <td>18</td>\n",
       "      <td>15</td>\n",
       "      <td>1</td>\n",
       "      <td>...</td>\n",
       "      <td>0</td>\n",
       "      <td>1</td>\n",
       "      <td>0.813749</td>\n",
       "      <td>1.228880</td>\n",
       "      <td>0</td>\n",
       "      <td>1</td>\n",
       "      <td>0</td>\n",
       "      <td>1</td>\n",
       "      <td>0</td>\n",
       "      <td>0</td>\n",
       "    </tr>\n",
       "    <tr>\n",
       "      <th>2</th>\n",
       "      <td>3</td>\n",
       "      <td>10</td>\n",
       "      <td>2</td>\n",
       "      <td>0</td>\n",
       "      <td>17409</td>\n",
       "      <td>17256</td>\n",
       "      <td>18</td>\n",
       "      <td>18</td>\n",
       "      <td>5</td>\n",
       "      <td>1</td>\n",
       "      <td>...</td>\n",
       "      <td>1</td>\n",
       "      <td>0</td>\n",
       "      <td>1.008866</td>\n",
       "      <td>0.991211</td>\n",
       "      <td>1</td>\n",
       "      <td>0</td>\n",
       "      <td>0</td>\n",
       "      <td>0</td>\n",
       "      <td>1</td>\n",
       "      <td>0</td>\n",
       "    </tr>\n",
       "    <tr>\n",
       "      <th>3</th>\n",
       "      <td>7</td>\n",
       "      <td>10</td>\n",
       "      <td>8</td>\n",
       "      <td>0</td>\n",
       "      <td>19558</td>\n",
       "      <td>18201</td>\n",
       "      <td>20</td>\n",
       "      <td>19</td>\n",
       "      <td>15</td>\n",
       "      <td>1</td>\n",
       "      <td>...</td>\n",
       "      <td>0</td>\n",
       "      <td>1</td>\n",
       "      <td>1.074556</td>\n",
       "      <td>0.930617</td>\n",
       "      <td>0</td>\n",
       "      <td>1</td>\n",
       "      <td>0</td>\n",
       "      <td>0</td>\n",
       "      <td>0</td>\n",
       "      <td>1</td>\n",
       "    </tr>\n",
       "    <tr>\n",
       "      <th>4</th>\n",
       "      <td>4</td>\n",
       "      <td>9</td>\n",
       "      <td>4</td>\n",
       "      <td>0</td>\n",
       "      <td>17409</td>\n",
       "      <td>17256</td>\n",
       "      <td>18</td>\n",
       "      <td>18</td>\n",
       "      <td>8</td>\n",
       "      <td>1</td>\n",
       "      <td>...</td>\n",
       "      <td>1</td>\n",
       "      <td>0</td>\n",
       "      <td>1.008866</td>\n",
       "      <td>0.991211</td>\n",
       "      <td>1</td>\n",
       "      <td>0</td>\n",
       "      <td>0</td>\n",
       "      <td>0</td>\n",
       "      <td>1</td>\n",
       "      <td>0</td>\n",
       "    </tr>\n",
       "    <tr>\n",
       "      <th>...</th>\n",
       "      <td>...</td>\n",
       "      <td>...</td>\n",
       "      <td>...</td>\n",
       "      <td>...</td>\n",
       "      <td>...</td>\n",
       "      <td>...</td>\n",
       "      <td>...</td>\n",
       "      <td>...</td>\n",
       "      <td>...</td>\n",
       "      <td>...</td>\n",
       "      <td>...</td>\n",
       "      <td>...</td>\n",
       "      <td>...</td>\n",
       "      <td>...</td>\n",
       "      <td>...</td>\n",
       "      <td>...</td>\n",
       "      <td>...</td>\n",
       "      <td>...</td>\n",
       "      <td>...</td>\n",
       "      <td>...</td>\n",
       "      <td>...</td>\n",
       "    </tr>\n",
       "    <tr>\n",
       "      <th>7995</th>\n",
       "      <td>9</td>\n",
       "      <td>6</td>\n",
       "      <td>14</td>\n",
       "      <td>0</td>\n",
       "      <td>18513</td>\n",
       "      <td>18201</td>\n",
       "      <td>19</td>\n",
       "      <td>19</td>\n",
       "      <td>23</td>\n",
       "      <td>1</td>\n",
       "      <td>...</td>\n",
       "      <td>0</td>\n",
       "      <td>1</td>\n",
       "      <td>1.017142</td>\n",
       "      <td>0.983147</td>\n",
       "      <td>0</td>\n",
       "      <td>1</td>\n",
       "      <td>0</td>\n",
       "      <td>0</td>\n",
       "      <td>0</td>\n",
       "      <td>1</td>\n",
       "    </tr>\n",
       "    <tr>\n",
       "      <th>7996</th>\n",
       "      <td>3</td>\n",
       "      <td>10</td>\n",
       "      <td>4</td>\n",
       "      <td>0</td>\n",
       "      <td>17381</td>\n",
       "      <td>19797</td>\n",
       "      <td>18</td>\n",
       "      <td>20</td>\n",
       "      <td>7</td>\n",
       "      <td>1</td>\n",
       "      <td>...</td>\n",
       "      <td>1</td>\n",
       "      <td>0</td>\n",
       "      <td>0.877961</td>\n",
       "      <td>1.139002</td>\n",
       "      <td>0</td>\n",
       "      <td>0</td>\n",
       "      <td>1</td>\n",
       "      <td>0</td>\n",
       "      <td>1</td>\n",
       "      <td>0</td>\n",
       "    </tr>\n",
       "    <tr>\n",
       "      <th>7997</th>\n",
       "      <td>9</td>\n",
       "      <td>3</td>\n",
       "      <td>9</td>\n",
       "      <td>1</td>\n",
       "      <td>18274</td>\n",
       "      <td>18491</td>\n",
       "      <td>19</td>\n",
       "      <td>19</td>\n",
       "      <td>18</td>\n",
       "      <td>0</td>\n",
       "      <td>...</td>\n",
       "      <td>0</td>\n",
       "      <td>1</td>\n",
       "      <td>0.988265</td>\n",
       "      <td>1.011875</td>\n",
       "      <td>0</td>\n",
       "      <td>1</td>\n",
       "      <td>0</td>\n",
       "      <td>0</td>\n",
       "      <td>1</td>\n",
       "      <td>0</td>\n",
       "    </tr>\n",
       "    <tr>\n",
       "      <th>7998</th>\n",
       "      <td>5</td>\n",
       "      <td>10</td>\n",
       "      <td>6</td>\n",
       "      <td>1</td>\n",
       "      <td>18274</td>\n",
       "      <td>18491</td>\n",
       "      <td>19</td>\n",
       "      <td>19</td>\n",
       "      <td>11</td>\n",
       "      <td>0</td>\n",
       "      <td>...</td>\n",
       "      <td>1</td>\n",
       "      <td>0</td>\n",
       "      <td>0.988265</td>\n",
       "      <td>1.011875</td>\n",
       "      <td>0</td>\n",
       "      <td>1</td>\n",
       "      <td>0</td>\n",
       "      <td>0</td>\n",
       "      <td>1</td>\n",
       "      <td>0</td>\n",
       "    </tr>\n",
       "    <tr>\n",
       "      <th>7999</th>\n",
       "      <td>6</td>\n",
       "      <td>4</td>\n",
       "      <td>5</td>\n",
       "      <td>0</td>\n",
       "      <td>17409</td>\n",
       "      <td>17256</td>\n",
       "      <td>18</td>\n",
       "      <td>18</td>\n",
       "      <td>11</td>\n",
       "      <td>1</td>\n",
       "      <td>...</td>\n",
       "      <td>1</td>\n",
       "      <td>0</td>\n",
       "      <td>1.008866</td>\n",
       "      <td>0.991211</td>\n",
       "      <td>1</td>\n",
       "      <td>0</td>\n",
       "      <td>0</td>\n",
       "      <td>0</td>\n",
       "      <td>1</td>\n",
       "      <td>0</td>\n",
       "    </tr>\n",
       "  </tbody>\n",
       "</table>\n",
       "<p>7986 rows × 22 columns</p>\n",
       "</div>"
      ],
      "text/plain": [
       "      blueKills  blueDeaths  blueAssists  blueDragons  blueTotalGold  \\\n",
       "0             5           8            6            0          14536   \n",
       "1            10           1            5            0          14536   \n",
       "2             3          10            2            0          17409   \n",
       "3             7          10            8            0          19558   \n",
       "4             4           9            4            0          17409   \n",
       "...         ...         ...          ...          ...            ...   \n",
       "7995          9           6           14            0          18513   \n",
       "7996          3          10            4            0          17381   \n",
       "7997          9           3            9            1          18274   \n",
       "7998          5          10            6            1          18274   \n",
       "7999          6           4            5            0          17409   \n",
       "\n",
       "      blueTotalExperience  Gold_ret  Experience_ret  blue_kill_assist  \\\n",
       "0                   17256        15              18                11   \n",
       "1                   17863        15              18                15   \n",
       "2                   17256        18              18                 5   \n",
       "3                   18201        20              19                15   \n",
       "4                   17256        18              18                 8   \n",
       "...                   ...       ...             ...               ...   \n",
       "7995                18201        19              19                23   \n",
       "7996                19797        18              20                 7   \n",
       "7997                18491        19              19                18   \n",
       "7998                18491        19              19                11   \n",
       "7999                17256        18              18                11   \n",
       "\n",
       "      blueEliteMonsters_0  ...  blueFirstBlood_0  blueFirstBlood_1  \\\n",
       "0                       1  ...                 1                 0   \n",
       "1                       1  ...                 0                 1   \n",
       "2                       1  ...                 1                 0   \n",
       "3                       1  ...                 0                 1   \n",
       "4                       1  ...                 1                 0   \n",
       "...                   ...  ...               ...               ...   \n",
       "7995                    1  ...                 0                 1   \n",
       "7996                    1  ...                 1                 0   \n",
       "7997                    0  ...                 0                 1   \n",
       "7998                    0  ...                 1                 0   \n",
       "7999                    1  ...                 1                 0   \n",
       "\n",
       "      TotalGold/TotalExperience  TotalExperience/TotalGold  \\\n",
       "0                      0.842374                   1.187122   \n",
       "1                      0.813749                   1.228880   \n",
       "2                      1.008866                   0.991211   \n",
       "3                      1.074556                   0.930617   \n",
       "4                      1.008866                   0.991211   \n",
       "...                         ...                        ...   \n",
       "7995                   1.017142                   0.983147   \n",
       "7996                   0.877961                   1.139002   \n",
       "7997                   0.988265                   1.011875   \n",
       "7998                   0.988265                   1.011875   \n",
       "7999                   1.008866                   0.991211   \n",
       "\n",
       "      change_blueTotalExperience_1  change_blueTotalExperience_2  \\\n",
       "0                                1                             0   \n",
       "1                                0                             1   \n",
       "2                                1                             0   \n",
       "3                                0                             1   \n",
       "4                                1                             0   \n",
       "...                            ...                           ...   \n",
       "7995                             0                             1   \n",
       "7996                             0                             0   \n",
       "7997                             0                             1   \n",
       "7998                             0                             1   \n",
       "7999                             1                             0   \n",
       "\n",
       "      change_blueTotalExperience_3  change_blueTotalGold_1  \\\n",
       "0                                0                       1   \n",
       "1                                0                       1   \n",
       "2                                0                       0   \n",
       "3                                0                       0   \n",
       "4                                0                       0   \n",
       "...                            ...                     ...   \n",
       "7995                             0                       0   \n",
       "7996                             1                       0   \n",
       "7997                             0                       0   \n",
       "7998                             0                       0   \n",
       "7999                             0                       0   \n",
       "\n",
       "      change_blueTotalGold_2  change_blueTotalGold_3  \n",
       "0                          0                       0  \n",
       "1                          0                       0  \n",
       "2                          1                       0  \n",
       "3                          0                       1  \n",
       "4                          1                       0  \n",
       "...                      ...                     ...  \n",
       "7995                       0                       1  \n",
       "7996                       1                       0  \n",
       "7997                       1                       0  \n",
       "7998                       1                       0  \n",
       "7999                       1                       0  \n",
       "\n",
       "[7986 rows x 22 columns]"
      ]
     },
     "execution_count": 46,
     "metadata": {},
     "output_type": "execute_result"
    }
   ],
   "source": [
    "select_columns = ['blueKills', 'blueDeaths', 'blueAssists', 'blueDragons', 'blueTotalGold', 'blueTotalExperience', 'Gold_ret', 'Experience_ret', 'blue_kill_assist', 'blueEliteMonsters_0', 'blueEliteMonsters_1', 'blueEliteMonsters_2', 'blueFirstBlood_0', 'blueFirstBlood_1', 'TotalGold/TotalExperience', 'TotalExperience/TotalGold', 'change_blueTotalExperience_1', 'change_blueTotalExperience_2', 'change_blueTotalExperience_3', 'change_blueTotalGold_1', 'change_blueTotalGold_2', 'change_blueTotalGold_3']\n",
    "df_train[select_columns]"
   ]
  },
  {
   "cell_type": "code",
   "execution_count": null,
   "id": "informative-region",
   "metadata": {},
   "outputs": [],
   "source": []
  },
  {
   "cell_type": "markdown",
   "id": "imported-casting",
   "metadata": {},
   "source": [
    "### 標準化を実施する"
   ]
  },
  {
   "cell_type": "code",
   "execution_count": 47,
   "id": "prostate-kernel",
   "metadata": {},
   "outputs": [],
   "source": [
    "ss = StandardScaler()\n",
    "df_train[select_columns] = ss.fit_transform(df_train[select_columns])\n",
    "df_test[select_columns] = ss.fit_transform(df_test[select_columns])"
   ]
  },
  {
   "cell_type": "code",
   "execution_count": null,
   "id": "satisfied-objective",
   "metadata": {},
   "outputs": [],
   "source": []
  },
  {
   "cell_type": "markdown",
   "id": "visible-category",
   "metadata": {},
   "source": [
    "#### 説明変数をX、目的変数をyとする"
   ]
  },
  {
   "cell_type": "code",
   "execution_count": 48,
   "id": "tamil-emphasis",
   "metadata": {},
   "outputs": [],
   "source": [
    "X = df_train[select_columns]\n",
    "y = df_train['blueWins']"
   ]
  },
  {
   "cell_type": "code",
   "execution_count": null,
   "id": "natural-bacteria",
   "metadata": {},
   "outputs": [],
   "source": []
  },
  {
   "cell_type": "markdown",
   "id": "numerous-violin",
   "metadata": {},
   "source": [
    "#### Xとyを学習データとテストデータに分ける"
   ]
  },
  {
   "cell_type": "code",
   "execution_count": 49,
   "id": "italian-airplane",
   "metadata": {},
   "outputs": [],
   "source": [
    "X_train, X_test, y_train, y_test = train_test_split(X, y, test_size=0.35, random_state=0)"
   ]
  },
  {
   "cell_type": "code",
   "execution_count": null,
   "id": "thousand-threat",
   "metadata": {},
   "outputs": [],
   "source": []
  },
  {
   "cell_type": "markdown",
   "id": "graphic-lighter",
   "metadata": {},
   "source": [
    "#### RandomizedSearchCV クラスをインポートする"
   ]
  },
  {
   "cell_type": "code",
   "execution_count": 51,
   "id": "ordered-productivity",
   "metadata": {},
   "outputs": [],
   "source": [
    "from sklearn.model_selection import RandomizedSearchCV"
   ]
  },
  {
   "cell_type": "code",
   "execution_count": null,
   "id": "boolean-veteran",
   "metadata": {},
   "outputs": [],
   "source": []
  },
  {
   "cell_type": "markdown",
   "id": "stock-performance",
   "metadata": {},
   "source": [
    "#### ハイパーパラメータを探索する範囲の指定"
   ]
  },
  {
   "cell_type": "code",
   "execution_count": 52,
   "id": "danish-manchester",
   "metadata": {},
   "outputs": [],
   "source": [
    "param_distributions = {\n",
    "    'max_depth': list(range(35, 55, 1)),\n",
    "    'min_samples_split': list(range(20, 40, 1)),\n",
    "    'min_samples_leaf': list(range(1, 10, 1)),\n",
    "    'n_estimators': list(range(130, 160, 1)),\n",
    "}"
   ]
  },
  {
   "cell_type": "code",
   "execution_count": null,
   "id": "agreed-distinction",
   "metadata": {},
   "outputs": [],
   "source": []
  },
  {
   "cell_type": "markdown",
   "id": "initial-irish",
   "metadata": {},
   "source": [
    "#### 学習に使用するアルゴリズム"
   ]
  },
  {
   "cell_type": "code",
   "execution_count": 55,
   "id": "french-legislation",
   "metadata": {},
   "outputs": [],
   "source": [
    "estimator = RandomForestClassifier(random_state=0)"
   ]
  },
  {
   "cell_type": "code",
   "execution_count": null,
   "id": "destroyed-medication",
   "metadata": {},
   "outputs": [],
   "source": []
  },
  {
   "cell_type": "markdown",
   "id": "bacterial-membrane",
   "metadata": {},
   "source": [
    "#### 試行回数の指定"
   ]
  },
  {
   "cell_type": "code",
   "execution_count": 53,
   "id": "sonic-metro",
   "metadata": {},
   "outputs": [],
   "source": [
    "n_iter = 200\n",
    "cv = 5"
   ]
  },
  {
   "cell_type": "code",
   "execution_count": null,
   "id": "acoustic-pillow",
   "metadata": {},
   "outputs": [],
   "source": []
  },
  {
   "cell_type": "markdown",
   "id": "fresh-tablet",
   "metadata": {},
   "source": [
    "#### モデルの作成"
   ]
  },
  {
   "cell_type": "code",
   "execution_count": 56,
   "id": "liked-chaos",
   "metadata": {},
   "outputs": [],
   "source": [
    "tuned_model = RandomizedSearchCV(\n",
    "    estimator=estimator, \n",
    "    param_distributions=param_distributions, \n",
    "    n_iter=n_iter, cv=cv, \n",
    "    random_state=0, return_train_score=False\n",
    ")"
   ]
  },
  {
   "cell_type": "code",
   "execution_count": 57,
   "id": "norman-bridal",
   "metadata": {},
   "outputs": [
    {
     "data": {
      "text/plain": [
       "RandomizedSearchCV(cv=5, estimator=RandomForestClassifier(random_state=0),\n",
       "                   n_iter=200,\n",
       "                   param_distributions={'max_depth': [35, 36, 37, 38, 39, 40,\n",
       "                                                      41, 42, 43, 44, 45, 46,\n",
       "                                                      47, 48, 49, 50, 51, 52,\n",
       "                                                      53, 54],\n",
       "                                        'min_samples_leaf': [1, 2, 3, 4, 5, 6,\n",
       "                                                             7, 8, 9],\n",
       "                                        'min_samples_split': [20, 21, 22, 23,\n",
       "                                                              24, 25, 26, 27,\n",
       "                                                              28, 29, 30, 31,\n",
       "                                                              32, 33, 34, 35,\n",
       "                                                              36, 37, 38, 39],\n",
       "                                        'n_estimators': [130, 131, 132, 133,\n",
       "                                                         134, 135, 136, 137,\n",
       "                                                         138, 139, 140, 141,\n",
       "                                                         142, 143, 144, 145,\n",
       "                                                         146, 147, 148, 149,\n",
       "                                                         150, 151, 152, 153,\n",
       "                                                         154, 155, 156, 157,\n",
       "                                                         158, 159]},\n",
       "                   random_state=0)"
      ]
     },
     "execution_count": 57,
     "metadata": {},
     "output_type": "execute_result"
    }
   ],
   "source": [
    "tuned_model.fit(X_train, y_train)"
   ]
  },
  {
   "cell_type": "code",
   "execution_count": null,
   "id": "guilty-recording",
   "metadata": {},
   "outputs": [],
   "source": []
  },
  {
   "cell_type": "markdown",
   "id": "scheduled-country",
   "metadata": {},
   "source": [
    "#### ベストパラメータ確認"
   ]
  },
  {
   "cell_type": "code",
   "execution_count": 58,
   "id": "guided-secondary",
   "metadata": {},
   "outputs": [
    {
     "data": {
      "text/plain": [
       "{'n_estimators': 149,\n",
       " 'min_samples_split': 36,\n",
       " 'min_samples_leaf': 5,\n",
       " 'max_depth': 47}"
      ]
     },
     "execution_count": 58,
     "metadata": {},
     "output_type": "execute_result"
    }
   ],
   "source": [
    "best_param = tuned_model.best_params_\n",
    "best_param"
   ]
  },
  {
   "cell_type": "code",
   "execution_count": 59,
   "id": "recorded-scroll",
   "metadata": {},
   "outputs": [],
   "source": [
    "best_model = tuned_model.best_estimator_"
   ]
  },
  {
   "cell_type": "code",
   "execution_count": null,
   "id": "unknown-north",
   "metadata": {},
   "outputs": [],
   "source": []
  },
  {
   "cell_type": "markdown",
   "id": "emotional-camel",
   "metadata": {},
   "source": [
    "#### 精度確認"
   ]
  },
  {
   "cell_type": "code",
   "execution_count": 60,
   "id": "reasonable-penny",
   "metadata": {},
   "outputs": [
    {
     "data": {
      "text/plain": [
       "(0.8173410404624277, 0.7829041487839771)"
      ]
     },
     "execution_count": 60,
     "metadata": {},
     "output_type": "execute_result"
    }
   ],
   "source": [
    "best_model.score(X_train, y_train), best_model.score(X_test, y_test)"
   ]
  },
  {
   "cell_type": "code",
   "execution_count": null,
   "id": "substantial-austria",
   "metadata": {},
   "outputs": [],
   "source": []
  },
  {
   "cell_type": "markdown",
   "id": "grave-prior",
   "metadata": {},
   "source": [
    "#### ベストモデル作成"
   ]
  },
  {
   "cell_type": "code",
   "execution_count": 61,
   "id": "tutorial-board",
   "metadata": {},
   "outputs": [],
   "source": [
    "forest = RandomForestClassifier(random_state=0, **best_param).fit(X_train, y_train)"
   ]
  },
  {
   "cell_type": "code",
   "execution_count": null,
   "id": "adopted-subscription",
   "metadata": {},
   "outputs": [],
   "source": []
  },
  {
   "cell_type": "markdown",
   "id": "august-republic",
   "metadata": {},
   "source": [
    "#### 混同行列表示"
   ]
  },
  {
   "cell_type": "code",
   "execution_count": 62,
   "id": "skilled-tender",
   "metadata": {},
   "outputs": [
    {
     "data": {
      "text/plain": [
       "array([[1114,  317],\n",
       "       [ 290, 1075]])"
      ]
     },
     "execution_count": 62,
     "metadata": {},
     "output_type": "execute_result"
    }
   ],
   "source": [
    "from sklearn.metrics import confusion_matrix\n",
    "Y_pred_rf = forest.predict(X_test)\n",
    "confusion_matrix(y_test, Y_pred_rf)"
   ]
  },
  {
   "cell_type": "code",
   "execution_count": null,
   "id": "medieval-teach",
   "metadata": {},
   "outputs": [],
   "source": []
  },
  {
   "cell_type": "markdown",
   "id": "disabled-gentleman",
   "metadata": {},
   "source": [
    "#### 重要度表示"
   ]
  },
  {
   "cell_type": "code",
   "execution_count": 63,
   "id": "opposite-background",
   "metadata": {},
   "outputs": [
    {
     "name": "stdout",
     "output_type": "stream",
     "text": [
      "Important features\n",
      "____________________________________________________________\n",
      "81.73\n"
     ]
    },
    {
     "data": {
      "image/png": "[encoded data removed]",
      "text/plain": [
       "<Figure size 432x288 with 1 Axes>"
      ]
     },
     "metadata": {
      "needs_background": "light"
     },
     "output_type": "display_data"
    }
   ],
   "source": [
    "acc_random_forest = round(forest.score(X_train, y_train) * 100, 2)\n",
    "\n",
    "print(\"Important features\")\n",
    "pd.Series(forest.feature_importances_,X_train.columns).sort_values(ascending=True).plot.barh(width=0.8)\n",
    "print('__'*30)\n",
    "print(acc_random_forest)"
   ]
  },
  {
   "cell_type": "code",
   "execution_count": null,
   "id": "consistent-afghanistan",
   "metadata": {},
   "outputs": [],
   "source": []
  }
 ],
 "metadata": {
  "environment": {
   "name": "tf2-gpu.2-3.mnightly-2021-02-12-debian-10-test",
   "type": "gcloud",
   "uri": "gcr.io/deeplearning-platform-release/tf2-gpu.2-3:mnightly-2021-02-12-debian-10-test"
  },
  "kernelspec": {
   "display_name": "Python 3",
   "language": "python",
   "name": "python3"
  },
  "language_info": {
   "codemirror_mode": {
    "name": "ipython",
    "version": 3
   },
   "file_extension": ".py",
   "mimetype": "text/x-python",
   "name": "python",
   "nbconvert_exporter": "python",
   "pygments_lexer": "ipython3",
   "version": "3.7.9"
  }
 },
 "nbformat": 4,
 "nbformat_minor": 5
}
